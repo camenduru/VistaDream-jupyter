{
  "cells": [
    {
      "cell_type": "markdown",
      "metadata": {
        "id": "view-in-github"
      },
      "source": [
        "[![Open In Colab](https://colab.research.google.com/assets/colab-badge.svg)](https://colab.research.google.com/github/camenduru/VistaDream-jupyter/blob/main/VistaDream_jupyter.ipynb)"
      ]
    },
    {
      "cell_type": "code",
      "execution_count": null,
      "metadata": {
        "id": "VjYy0F2gZIPR"
      },
      "outputs": [],
      "source": [
        "%cd /content\n",
        "!git clone https://github.com/WHU-USI3DV/VistaDream\n",
        "%cd /content/VistaDream\n",
        "!pip install omegaconf==2.2.3 open3d==0.18.0 plyfile==1.0.3 pillow==9.5.0 ftfy==6.2.0 diffdist==0.1 gsplat==1.0.0 torchmetrics==1.3.2 torchsde==0.2.6\n",
        "!pip install https://github.com/camenduru/wheels/releases/download/colab4/detectron2-0.6-cp310-cp310-linux_x86_64.whl\n",
        "!pip install https://github.com/camenduru/wheels/releases/download/colab4/natten-0.17.1-cp310-cp310-linux_x86_64.whl\n",
        "!pip install https://github.com/camenduru/wheels/releases/download/colab4/MultiScaleDeformableAttention-1.0-cp310-cp310-linux_x86_64.whl\n",
        "\n",
        "!wget -P tools/Fooocus/models/checkpoints/ https://huggingface.co/lllyasviel/fav_models/resolve/main/fav/juggernautXL_v8Rundiffusion.safetensors\n",
        "!wget -P tools/Fooocus/models/loras/ https://huggingface.co/stabilityai/stable-diffusion-xl-base-1.0/resolve/main/sd_xl_offset_example-lora_1.0.safetensors\n",
        "!wget -P tools/Fooocus/models/inpaint/ https://huggingface.co/lllyasviel/fooocus_inpaint/resolve/main/inpaint_v26.fooocus.patch\n",
        "!wget -O tools/Fooocus/models/prompt_expansion/fooocus_expansion/pytorch_model.bin  https://huggingface.co/lllyasviel/misc/resolve/main/fooocus_expansion.bin\n",
        "!wget -P tools/Fooocus/models/unscale_models/ https://huggingface.co/lllyasviel/misc/resolve/main/fooocus_upscaler_s409985e5.bin\n",
        "!wget -P tools/DepthPro/checkpoints https://ml-site.cdn-apple.com/models/depth-pro/depth_pro.pt\n",
        "!wget -P tools/OneFormer/ckpts https://shi-labs.com/projects/oneformer/ade20k/coco_pretrain_1280x1280_150_16_dinat_l_oneformer_ade20k_160k.pth\n",
        "!wget -P tools/StableDiffusion/lcm_ckpt https://huggingface.co/latent-consistency/lcm-lora-sdv1-5/resolve/main/pytorch_lora_weights.safetensors\n",
        "\n",
        "# !git clone https://huggingface.co/llava-hf/bakLlava-v1-hf /content/bakLlava\n",
        "\n",
        "%cd /content/VistaDream\n",
        "!python demo.py"
      ]
    }
  ],
  "metadata": {
    "accelerator": "GPU",
    "colab": {
      "gpuType": "T4",
      "provenance": []
    },
    "kernelspec": {
      "display_name": "Python 3",
      "name": "python3"
    },
    "language_info": {
      "name": "python"
    }
  },
  "nbformat": 4,
  "nbformat_minor": 0
}
