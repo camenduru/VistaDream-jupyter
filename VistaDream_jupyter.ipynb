{
  "cells": [
    {
      "cell_type": "markdown",
      "metadata": {
        "id": "view-in-github"
      },
      "source": [
        "[![Open In Colab](https://colab.research.google.com/assets/colab-badge.svg)](https://colab.research.google.com/github/camenduru/VistaDream-jupyter/blob/main/VistaDream_jupyter.ipynb)"
      ]
    },
    {
      "cell_type": "code",
      "execution_count": null,
      "metadata": {
        "id": "VjYy0F2gZIPR"
      },
      "outputs": [],
      "source": [
        "%cd /content\n",
        "!git clone -b dev https://github.com/camenduru/VistaDream\n",
        "%cd /content/VistaDream\n",
        "!pip install omegaconf==2.2.3 open3d==0.18.0 plyfile==1.0.3 pillow==9.5.0 ftfy==6.2.0 diffdist==0.1 gsplat==1.0.0 torchmetrics==1.3.2 torchsde==0.2.6\n",
        "!pip install https://github.com/camenduru/wheels/releases/download/colab4/detectron2-0.6-cp310-cp310-linux_x86_64.whl\n",
        "!pip install https://github.com/camenduru/wheels/releases/download/colab4/natten-0.17.1-cp310-cp310-linux_x86_64.whl\n",
        "!pip install https://github.com/camenduru/wheels/releases/download/colab4/MultiScaleDeformableAttention-1.0-cp310-cp310-linux_x86_64.whl\n",
        "!pip install /content/VistaDream/tools/DepthPro\n",
        "\n",
        "!aria2c --console-log-level=error -c -x 16 -s 16 -k 1M https://huggingface.co/camenduru/VistaDream/raw/main/bakLlava/added_tokens.json -d /content/VistaDream/tools/bakLlava -o added_tokens.json\n",
        "!aria2c --console-log-level=error -c -x 16 -s 16 -k 1M https://huggingface.co/camenduru/VistaDream/raw/main/bakLlava/chat_template.json -d /content/VistaDream/tools/bakLlava -o chat_template.json\n",
        "!aria2c --console-log-level=error -c -x 16 -s 16 -k 1M https://huggingface.co/camenduru/VistaDream/raw/main/bakLlava/config.json -d /content/VistaDream/tools/bakLlava -o config.json\n",
        "!aria2c --console-log-level=error -c -x 16 -s 16 -k 1M https://huggingface.co/camenduru/VistaDream/raw/main/bakLlava/generation_config.json -d /content/VistaDream/tools/bakLlava -o generation_config.json\n",
        "!aria2c --console-log-level=error -c -x 16 -s 16 -k 1M https://huggingface.co/camenduru/VistaDream/resolve/main/bakLlava/model-00001-of-00004.safetensors -d /content/VistaDream/tools/bakLlava -o model-00001-of-00004.safetensors\n",
        "!aria2c --console-log-level=error -c -x 16 -s 16 -k 1M https://huggingface.co/camenduru/VistaDream/resolve/main/bakLlava/model-00002-of-00004.safetensors -d /content/VistaDream/tools/bakLlava -o model-00002-of-00004.safetensors\n",
        "!aria2c --console-log-level=error -c -x 16 -s 16 -k 1M https://huggingface.co/camenduru/VistaDream/resolve/main/bakLlava/model-00003-of-00004.safetensors -d /content/VistaDream/tools/bakLlava -o model-00003-of-00004.safetensors\n",
        "!aria2c --console-log-level=error -c -x 16 -s 16 -k 1M https://huggingface.co/camenduru/VistaDream/resolve/main/bakLlava/model-00004-of-00004.safetensors -d /content/VistaDream/tools/bakLlava -o model-00004-of-00004.safetensors\n",
        "!aria2c --console-log-level=error -c -x 16 -s 16 -k 1M https://huggingface.co/camenduru/VistaDream/raw/main/bakLlava/model.safetensors.index.json -d /content/VistaDream/tools/bakLlava -o model.safetensors.index.json\n",
        "!aria2c --console-log-level=error -c -x 16 -s 16 -k 1M https://huggingface.co/camenduru/VistaDream/raw/main/bakLlava/preprocessor_config.json -d /content/VistaDream/tools/bakLlava -o preprocessor_config.json\n",
        "!aria2c --console-log-level=error -c -x 16 -s 16 -k 1M https://huggingface.co/camenduru/VistaDream/raw/main/bakLlava/special_tokens_map.json -d /content/VistaDream/tools/bakLlava -o special_tokens_map.json\n",
        "!aria2c --console-log-level=error -c -x 16 -s 16 -k 1M https://huggingface.co/camenduru/VistaDream/raw/main/bakLlava/tokenizer.json -d /content/VistaDream/tools/bakLlava -o tokenizer.json\n",
        "!aria2c --console-log-level=error -c -x 16 -s 16 -k 1M https://huggingface.co/camenduru/VistaDream/resolve/main/bakLlava/tokenizer.model -d /content/VistaDream/tools/bakLlava -o tokenizer.model\n",
        "!aria2c --console-log-level=error -c -x 16 -s 16 -k 1M https://huggingface.co/camenduru/VistaDream/raw/main/bakLlava/tokenizer_config.json -d /content/VistaDream/tools/bakLlava -o tokenizer_config.json!\n",
        "\n",
        "!aria2c --console-log-level=error -c -x 16 -s 16 -k 1M https://huggingface.co/camenduru/VistaDream/raw/main/sd15/feature_extractor/preprocessor_config.json -d /content/VistaDream/tools/StableDiffusion/ckpt/feature_extractor -o preprocessor_config.json\n",
        "!aria2c --console-log-level=error -c -x 16 -s 16 -k 1M https://huggingface.co/camenduru/VistaDream/raw/main/sd15/safety_checker/config.json -d /content/VistaDream/tools/StableDiffusion/ckpt/safety_checker -o config.json\n",
        "!aria2c --console-log-level=error -c -x 16 -s 16 -k 1M https://huggingface.co/camenduru/VistaDream/resolve/main/sd15/safety_checker/pytorch_model.bin -d /content/VistaDream/tools/StableDiffusion/ckpt/safety_checker -o pytorch_model.bin\n",
        "!aria2c --console-log-level=error -c -x 16 -s 16 -k 1M https://huggingface.co/camenduru/VistaDream/raw/main/sd15/scheduler/scheduler_config.json -d /content/VistaDream/tools/StableDiffusion/ckpt/scheduler -o scheduler_config.json\n",
        "!aria2c --console-log-level=error -c -x 16 -s 16 -k 1M https://huggingface.co/camenduru/VistaDream/raw/main/sd15/text_encoder/config.json -d /content/VistaDream/tools/StableDiffusion/ckpt/text_encoder -o config.json\n",
        "!aria2c --console-log-level=error -c -x 16 -s 16 -k 1M https://huggingface.co/camenduru/VistaDream/resolve/main/sd15/text_encoder/pytorch_model.bin -d /content/VistaDream/tools/StableDiffusion/ckpt/text_encoder -o pytorch_model.bin\n",
        "!aria2c --console-log-level=error -c -x 16 -s 16 -k 1M https://huggingface.co/camenduru/VistaDream/raw/main/sd15/tokenizer/merges.txt -d /content/VistaDream/tools/StableDiffusion/ckpt/tokenizer -o merges.txt\n",
        "!aria2c --console-log-level=error -c -x 16 -s 16 -k 1M https://huggingface.co/camenduru/VistaDream/raw/main/sd15/tokenizer/special_tokens_map.json -d /content/VistaDream/tools/StableDiffusion/ckpt/tokenizer -o special_tokens_map.json\n",
        "!aria2c --console-log-level=error -c -x 16 -s 16 -k 1M https://huggingface.co/camenduru/VistaDream/raw/main/sd15/tokenizer/tokenizer_config.json -d /content/VistaDream/tools/StableDiffusion/ckpt/tokenizer -o tokenizer_config.json\n",
        "!aria2c --console-log-level=error -c -x 16 -s 16 -k 1M https://huggingface.co/camenduru/VistaDream/raw/main/sd15/tokenizer/vocab.json -d /content/VistaDream/tools/StableDiffusion/ckpt/tokenizer -o vocab.json\n",
        "!aria2c --console-log-level=error -c -x 16 -s 16 -k 1M https://huggingface.co/camenduru/VistaDream/raw/main/sd15/unet/config.json -d /content/VistaDream/tools/StableDiffusion/ckpt/unet -o config.json\n",
        "!aria2c --console-log-level=error -c -x 16 -s 16 -k 1M https://huggingface.co/camenduru/VistaDream/resolve/main/sd15/unet/diffusion_pytorch_model.bin -d /content/VistaDream/tools/StableDiffusion/ckpt/unet -o diffusion_pytorch_model.bin\n",
        "!aria2c --console-log-level=error -c -x 16 -s 16 -k 1M https://huggingface.co/camenduru/VistaDream/raw/main/sd15/vae/config.json -d /content/VistaDream/tools/StableDiffusion/ckpt/vae -o config.json\n",
        "!aria2c --console-log-level=error -c -x 16 -s 16 -k 1M https://huggingface.co/camenduru/VistaDream/resolve/main/sd15/vae/diffusion_pytorch_model.bin -d /content/VistaDream/tools/StableDiffusion/ckpt/vae -o diffusion_pytorch_model.bin\n",
        "!aria2c --console-log-level=error -c -x 16 -s 16 -k 1M https://huggingface.co/camenduru/VistaDream/raw/main/sd15/model_index.json -d /content/VistaDream/tools/StableDiffusion/ckpt -o model_index.json!\n",
        "\n",
        "!aria2c --console-log-level=error -c -x 16 -s 16 -k 1M https://huggingface.co/camenduru/VistaDream/resolve/main/sd_xl_offset_example-lora_1.0.safetensors -d /content/VistaDream/tools/Fooocus/models/loras -o sd_xl_offset_example-lora_1.0.safetensors\n",
        "!aria2c --console-log-level=error -c -x 16 -s 16 -k 1M https://huggingface.co/camenduru/VistaDream/resolve/main/pytorch_model.bin -d /content/VistaDream/tools/Fooocus/models/prompt_expansion/fooocus_expansion -o pytorch_model.bin\n",
        "!aria2c --console-log-level=error -c -x 16 -s 16 -k 1M https://huggingface.co/camenduru/VistaDream/resolve/main/pytorch_lora_weights.safetensors -d /content/VistaDream/tools/StableDiffusion/lcm_ckpt -o pytorch_lora_weights.safetensors\n",
        "!aria2c --console-log-level=error -c -x 16 -s 16 -k 1M https://huggingface.co/camenduru/VistaDream/resolve/main/juggernautXL_v8Rundiffusion.safetensors -d /content/VistaDream/tools/Fooocus/models/checkpoints -o juggernautXL_v8Rundiffusion.safetensors\n",
        "!aria2c --console-log-level=error -c -x 16 -s 16 -k 1M https://huggingface.co/camenduru/VistaDream/resolve/main/inpaint_v26.fooocus.patch -d /content/VistaDream/tools/Fooocus/models/inpaint -o inpaint_v26.fooocus.patch\n",
        "!aria2c --console-log-level=error -c -x 16 -s 16 -k 1M https://huggingface.co/camenduru/VistaDream/resolve/main/fooocus_upscaler_s409985e5.bin -d /content/VistaDream/tools/Fooocus/models/unscale_models -o fooocus_upscaler_s409985e5.bin\n",
        "!aria2c --console-log-level=error -c -x 16 -s 16 -k 1M https://huggingface.co/camenduru/VistaDream/resolve/main/depth_pro.pt -d /content/VistaDream/tools/DepthPro/checkpoints -o depth_pro.pt\n",
        "!aria2c --console-log-level=error -c -x 16 -s 16 -k 1M https://huggingface.co/camenduru/VistaDream/resolve/main/coco_pretrain_1280x1280_150_16_dinat_l_oneformer_ade20k_160k.pth -d /content/VistaDream/tools/OneFormer/ckpts -o coco_pretrain_1280x1280_150_16_dinat_l_oneformer_ade20k_160k.pth\n",
        "\n",
        "%cd /content/VistaDream\n",
        "!python demo.py"
      ]
    }
  ],
  "metadata": {
    "accelerator": "GPU",
    "colab": {
      "gpuType": "T4",
      "provenance": []
    },
    "kernelspec": {
      "display_name": "Python 3",
      "name": "python3"
    },
    "language_info": {
      "name": "python"
    }
  },
  "nbformat": 4,
  "nbformat_minor": 0
}
